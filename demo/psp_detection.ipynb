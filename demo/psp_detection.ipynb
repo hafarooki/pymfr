{
 "cells": [
  {
   "cell_type": "code",
   "execution_count": 1,
   "metadata": {
    "pycharm": {
     "name": "#%%\n"
    },
    "ExecuteTime": {
     "end_time": "2023-09-07T10:47:23.528671200Z",
     "start_time": "2023-09-07T10:47:19.460654Z"
    }
   },
   "outputs": [
    {
     "ename": "KeyboardInterrupt",
     "evalue": "",
     "output_type": "error",
     "traceback": [
      "\u001B[1;31m---------------------------------------------------------------------------\u001B[0m",
      "\u001B[1;31mKeyboardInterrupt\u001B[0m                         Traceback (most recent call last)",
      "Cell \u001B[1;32mIn[1], line 8\u001B[0m\n\u001B[0;32m      6\u001B[0m \u001B[38;5;28;01mimport\u001B[39;00m \u001B[38;5;21;01mpandas\u001B[39;00m \u001B[38;5;28;01mas\u001B[39;00m \u001B[38;5;21;01mpd\u001B[39;00m\n\u001B[0;32m      7\u001B[0m \u001B[38;5;28;01mimport\u001B[39;00m \u001B[38;5;21;01mscipy\u001B[39;00m\u001B[38;5;21;01m.\u001B[39;00m\u001B[38;5;21;01mconstants\u001B[39;00m\n\u001B[1;32m----> 8\u001B[0m \u001B[38;5;28;01mimport\u001B[39;00m \u001B[38;5;21;01mtorch\u001B[39;00m\n\u001B[0;32m      9\u001B[0m \u001B[38;5;28;01mfrom\u001B[39;00m \u001B[38;5;21;01mcdasws\u001B[39;00m \u001B[38;5;28;01mimport\u001B[39;00m CdasWs\n\u001B[0;32m     11\u001B[0m \u001B[38;5;28;01mfrom\u001B[39;00m \u001B[38;5;21;01mpymfr\u001B[39;00m\u001B[38;5;21;01m.\u001B[39;00m\u001B[38;5;21;01mdetect\u001B[39;00m \u001B[38;5;28;01mimport\u001B[39;00m detect_flux_ropes\n",
      "File \u001B[1;32m~\\Research\\pymfr\\venv\\lib\\site-packages\\torch\\__init__.py:123\u001B[0m\n\u001B[0;32m    121\u001B[0m is_loaded \u001B[38;5;241m=\u001B[39m \u001B[38;5;28;01mFalse\u001B[39;00m\n\u001B[0;32m    122\u001B[0m \u001B[38;5;28;01mif\u001B[39;00m with_load_library_flags:\n\u001B[1;32m--> 123\u001B[0m     res \u001B[38;5;241m=\u001B[39m \u001B[43mkernel32\u001B[49m\u001B[38;5;241;43m.\u001B[39;49m\u001B[43mLoadLibraryExW\u001B[49m\u001B[43m(\u001B[49m\u001B[43mdll\u001B[49m\u001B[43m,\u001B[49m\u001B[43m \u001B[49m\u001B[38;5;28;43;01mNone\u001B[39;49;00m\u001B[43m,\u001B[49m\u001B[43m \u001B[49m\u001B[38;5;241;43m0x00001100\u001B[39;49m\u001B[43m)\u001B[49m\n\u001B[0;32m    124\u001B[0m     last_error \u001B[38;5;241m=\u001B[39m ctypes\u001B[38;5;241m.\u001B[39mget_last_error()\n\u001B[0;32m    125\u001B[0m     \u001B[38;5;28;01mif\u001B[39;00m res \u001B[38;5;129;01mis\u001B[39;00m \u001B[38;5;28;01mNone\u001B[39;00m \u001B[38;5;129;01mand\u001B[39;00m last_error \u001B[38;5;241m!=\u001B[39m \u001B[38;5;241m126\u001B[39m:\n",
      "\u001B[1;31mKeyboardInterrupt\u001B[0m: "
     ]
    }
   ],
   "source": [
    "import pathlib\n",
    "\n",
    "import cdflib\n",
    "import matplotlib.pyplot as plt\n",
    "import numpy as np\n",
    "import pandas as pd\n",
    "import scipy.constants\n",
    "import torch\n",
    "from cdasws import CdasWs\n",
    "\n",
    "from pymfr.detect import detect_flux_ropes\n",
    "from pymfr.reconstruct import reconstruct_map"
   ]
  },
  {
   "cell_type": "code",
   "execution_count": null,
   "metadata": {
    "collapsed": true,
    "pycharm": {
     "name": "#%%\n"
    },
    "ExecuteTime": {
     "start_time": "2023-09-07T10:47:23.526670400Z"
    }
   },
   "outputs": [],
   "source": [
    "time = ['2018-11-13T00:00:00Z', '2018-11-14T00:00:00Z']\n",
    "\n",
    "file_name = f\"./data/psp_{time[0]}_{time[1]}_30s.npz\"\n",
    "if not pathlib.Path(file_name).exists():\n",
    "    cdas = CdasWs()\n",
    "\n",
    "    status, data = cdas.get_data('PSP_SWP_SPC_L3I', ['vp_moment_RTN', 'np_moment'], time[0], time[1])\n",
    "\n",
    "    datetime = cdflib.epochs.CDFepoch().to_datetime(data.Epoch.values, to_np=True)\n",
    "\n",
    "    velocity = data.vp_moment_RTN.values\n",
    "    velocity[np.any(velocity == data.vp_moment_RTN.FILLVAL, axis=1)] = np.nan\n",
    "    velocity = pd.DataFrame(velocity, index=pd.DatetimeIndex(datetime))\n",
    "    velocity = velocity.resample(\"30s\").mean().shift(0.5, freq=\"30s\").interpolate()\n",
    "    times = velocity.index.values\n",
    "    velocity = velocity.values\n",
    "\n",
    "    density = data.np_moment.values\n",
    "    density[density == data.np_moment.FILLVAL] = np.nan\n",
    "    density = pd.Series(density, index=pd.DatetimeIndex(datetime))\n",
    "    density = density.resample(\"30s\").mean().shift(0.5, freq=\"30s\").interpolate().values\n",
    "\n",
    "    status, data = cdas.get_data('PSP_FLD_L2_MAG_RTN', ['psp_fld_l2_mag_RTN'], time[0], time[1])\n",
    "\n",
    "    magnetic_field = data.psp_fld_l2_mag_RTN.values\n",
    "    magnetic_field[np.any(magnetic_field == data.psp_fld_l2_mag_RTN.FILLVAL, axis=1), :] = np.nan\n",
    "    datetime = cdflib.epochs.CDFepoch().to_datetime(data.epoch_mag_RTN.values, to_np=True)\n",
    "    magnetic_field = pd.DataFrame(magnetic_field, index=pd.DatetimeIndex(datetime))\n",
    "    magnetic_field = magnetic_field.resample(\"30s\").mean().shift(0.5, freq=\"30s\").loc[times].interpolate().values\n",
    "    np.savez_compressed(file_name, magnetic_field=magnetic_field, velocity=velocity, density=density, times=times)\n",
    "\n",
    "data = np.load(file_name)\n",
    "\n",
    "magnetic_field = torch.as_tensor(data[\"magnetic_field\"], dtype=torch.float32)\n",
    "velocity = torch.as_tensor(data[\"velocity\"], dtype=torch.float32)\n",
    "density = torch.as_tensor(data[\"density\"], dtype=torch.float32)\n",
    "times = data[\"times\"]"
   ]
  },
  {
   "cell_type": "code",
   "execution_count": null,
   "metadata": {
    "pycharm": {
     "name": "#%%\n"
    },
    "ExecuteTime": {
     "start_time": "2023-09-07T10:47:23.528671200Z"
    }
   },
   "outputs": [],
   "source": [
    "durations = range(10, 50)\n",
    "gas_pressure = torch.zeros_like(density)\n",
    "results = detect_flux_ropes(magnetic_field, velocity, density, gas_pressure,\n",
    "                            batch_size=10000,\n",
    "                            window_steps=[max(duration // 16, 1) for duration in durations],\n",
    "                            window_lengths=durations,\n",
    "                            sample_spacing=30,\n",
    "                            min_strength=0,\n",
    "                            frame_type=\"vht\",\n",
    "                            threshold_diff=0.2,\n",
    "                            threshold_fit=0.2,\n",
    "                            threshold_flow_field_alignment=0)"
   ]
  },
  {
   "cell_type": "code",
   "execution_count": null,
   "metadata": {
    "ExecuteTime": {
     "start_time": "2023-09-07T10:47:23.530667900Z"
    }
   },
   "outputs": [],
   "source": [
    "print(len(results.event), 'detected')"
   ]
  },
  {
   "cell_type": "code",
   "execution_count": null,
   "metadata": {
    "collapsed": false,
    "pycharm": {
     "name": "#%%\n"
    },
    "ExecuteTime": {
     "start_time": "2023-09-07T10:47:23.532668900Z"
    }
   },
   "outputs": [],
   "source": [
    "def spherical(x, y, z):\n",
    "    altitude = np.rad2deg(np.arctan2(np.sqrt(x ** 2 + y ** 2), z))\n",
    "    azimuth = np.rad2deg(np.arctan2(y, x))\n",
    "    return altitude, azimuth\n",
    "\n",
    "\n",
    "for i_event in list(sorted(results.event, reverse=False, key=lambda x: results.window_start.sel(event=x)))[:10]:\n",
    "    event = results.sel(event=i_event)\n",
    "    axis = event[[\"axis_x\", \"axis_y\", \"axis_z\"]].to_array().values\n",
    "    propagation_velocity = event[[\"velocity_x\", \"velocity_y\", \"velocity_z\"]].to_array().values\n",
    "    window_start = event.window_start.item()\n",
    "    window_length = event.window_length.item()\n",
    "    temporal_scale = event.temporal_scale.item()\n",
    "    residue = event.residue_diff.item()\n",
    "    error_fit = event.residue_fit.item()\n",
    "\n",
    "    event_flow_velocity = velocity[window_start:window_start + window_length].cpu().numpy()\n",
    "    event_magnetic_field = magnetic_field[window_start:window_start + window_length].cpu().numpy()\n",
    "    event_density = density[window_start:window_start + window_length].cpu().numpy()\n",
    "    Pgas = gas_pressure[window_start:window_start + window_length].cpu().numpy()\n",
    "\n",
    "    x_unit = -(propagation_velocity - np.dot(propagation_velocity, axis) * axis)\n",
    "    x_unit = x_unit / np.linalg.norm(x_unit)\n",
    "    y_unit = np.cross(axis, x_unit)\n",
    "    rotation_matrix = np.column_stack([x_unit, y_unit, axis])\n",
    "    rotation_matrix = rotation_matrix.T  # transpose gives inverse of rotation matrix\n",
    "    alfven_velocity = event_magnetic_field / np.sqrt(scipy.constants.mu_0\n",
    "                                            * scipy.constants.m_p\n",
    "                                            * np.expand_dims(event_density, axis=1)) * 1e-15\n",
    "    remaining_flow = event_flow_velocity - propagation_velocity\n",
    "\n",
    "    d_flow = remaining_flow - remaining_flow.mean()\n",
    "    d_alfven = alfven_velocity - alfven_velocity.mean()\n",
    "    walen_slope = (d_flow * d_alfven).sum() / (d_alfven ** 2).sum()\n",
    "\n",
    "    # if walen_slope > 0.3:\n",
    "    #     continue\n",
    "\n",
    "    print(times[window_start], \" to \", times[window_start + window_length])\n",
    "    print(\"window length:\", window_length)\n",
    "    print(\"duration:\", temporal_scale / 60)\n",
    "    print(\"error:\", round(residue, 3), round(error_fit, 3))\n",
    "    print(\"walen slope:\", round(walen_slope, 3))\n",
    "    print(\"alfvenicity:\", round(event.walen_slope.item(), 3))\n",
    "    print(\"<B>:\", round(np.linalg.norm(event_magnetic_field, axis=1).mean(), 2))\n",
    "    altitude, azimuth = spherical(*axis)\n",
    "    print(\"Altitude/azimuth:\", round(altitude), \"/\", round(azimuth % 360))\n",
    "    print(\"Frame quality:\", event.frame_quality.item())\n",
    "    print(\"Field alignment\", event.flow_field_alignment.item())\n",
    "\n",
    "    rotated = rotation_matrix @ event_magnetic_field.T\n",
    "\n",
    "    dx = np.linalg.norm(np.dot(propagation_velocity, x_unit)) * 60\n",
    "    A = scipy.integrate.cumulative_trapezoid(-rotated[1], initial=0, dx=dx)\n",
    "    alpha = event.walen_slope.item() ** 2\n",
    "    Pt = Pgas / (1 - alpha) + ((rotated[2] * 1e-9) ** 2 + (alpha / (1 - alpha)) * (np.linalg.norm(rotated, axis=0)* 1e-9) ** 2) / (2 * 1.25663706212e-6) * 1e9\n",
    "\n",
    "    colors = [\"red\", \"green\", \"blue\"]\n",
    "\n",
    "    A_peak = A[np.abs(A).argmax()]\n",
    "    A_sign = np.sign(A_peak)\n",
    "\n",
    "    map_core_mask = event.map_core_mask.values\n",
    "    map_A = event.map_Az.values\n",
    "    \n",
    "    closed_min = (map_A[map_core_mask] * A_sign).min()\n",
    "    closed_max = (map_A[map_core_mask] * A_sign).max()\n",
    "\n",
    "    for i, color in enumerate(colors):\n",
    "        plt.scatter(alfven_velocity[:, i], remaining_flow[:, i], color=color)\n",
    "        plt.xlabel(r\"$v_A$\")\n",
    "        plt.ylabel(r\"$v - v_{HT}$\")\n",
    "    plt.show()\n",
    "\n",
    "    for i_color, color in enumerate(colors):\n",
    "        plt.plot(np.linspace(0, 1, len(rotated[i_color])), rotated[i_color], color=color)\n",
    "\n",
    "\n",
    "    plt.plot(np.linspace(0, 1, 15), event.map_Bx[event.map_Bx.shape[0] // 2, :], color=\"red\")\n",
    "    plt.plot(np.linspace(0, 1, 15), event.map_By[event.map_By.shape[0] // 2, :], color=\"green\")\n",
    "    plt.plot(np.linspace(0, 1, 15), event.map_Bz[event.map_Bz.shape[0] // 2, :], color=\"blue\")\n",
    "    \n",
    "    plt.show()\n",
    "    plt.plot(np.linspace(0, 1, len(A)), A)\n",
    "    plt.plot(np.linspace(0, 1, 15), map_A[map_A.shape[0] // 2, :])\n",
    "    plt.axhline(closed_min * A_sign)\n",
    "    plt.axhline(closed_max * A_sign)\n",
    "    plt.show()\n",
    "\n",
    "    plt.scatter(A, rotated[2])\n",
    "    plt.plot(A, rotated[2])\n",
    "    plt.xlabel(\"A\")\n",
    "    plt.ylabel(\"Bz\")\n",
    "    plt.show()\n",
    "\n",
    "    plt.scatter(A, Pt)\n",
    "    # plt.ylim(0, Pt.max() * 1.5)\n",
    "    plt.plot(A, Pt)\n",
    "    plt.xlabel(\"A\")\n",
    "    plt.ylabel(\"Pt\")\n",
    "    plt.show()\n",
    "\n",
    "    extent = (-1, 1, -1, 1)\n",
    "\n",
    "    plt.imshow(event.map_Bz, vmin=max(0, rotated[2].min()), vmax=rotated[2].max(), interpolation=\"bicubic\", extent=extent, origin=\"lower\")\n",
    "    # plt.imshow(map_A / A_peak, vmin=0, cmap=\"gist_heat\", extent=extent, origin=\"lower\")\n",
    "    plt.colorbar()\n",
    "    enclosed_levels = (map_A[map_core_mask] * A_sign)\n",
    "    levels = np.linspace(0, enclosed_levels.max(), 10)\n",
    "    plt.contour(map_A * A_sign, origin=\"lower\", extent=extent, levels=levels, colors=\"black\", algorithm=\"serial\", antialiased=True)\n",
    "   \n",
    "    plt.xlim(extent[0], extent[1])\n",
    "    plt.ylim(extent[2], extent[3])\n",
    "    \n",
    "\n",
    "    print(\"closed %\", int(100 * map_core_mask.mean()))\n",
    "    print(\"width\", np.any(map_core_mask, axis=-2).sum() / 15)\n",
    "    print(\"height\", np.any(map_core_mask, axis=-1).sum() / 15)\n",
    "\n",
    "    poloidal_flux = (closed_max - closed_min) * 1e-9 * 1.5e8\n",
    "    axial_flux = (event.map_Bz.values[map_core_mask] * dx ** 2).sum().item() * 1e-9\n",
    "\n",
    "    print(\"poloidal flux per au\", poloidal_flux)\n",
    "    print(\"axial flux\", axial_flux)\n",
    "    print(\"twist per au\", poloidal_flux / axial_flux)\n",
    "    print(\"field line length\", axial_flux / poloidal_flux)\n",
    "    print(event.spatial_scale / 1.5e8)\n",
    "    print(\"scale in au\", np.sqrt(np.count_nonzero(map_core_mask) * (dx / 1.5e8) ** 2))\n",
    "\n",
    "    plt.imshow(map_core_mask, vmin=0, vmax=2, origin=\"lower\", extent=extent, cmap=\"Blues_r\", alpha=0.5)\n",
    "\n",
    "\n",
    "    plt.show()\n",
    "\n"
   ]
  },
  {
   "cell_type": "code",
   "execution_count": null,
   "metadata": {
    "collapsed": false,
    "ExecuteTime": {
     "end_time": "2023-09-07T10:47:23.543667900Z",
     "start_time": "2023-09-07T10:47:23.533671Z"
    }
   },
   "outputs": [],
   "source": []
  }
 ],
 "metadata": {
  "kernelspec": {
   "display_name": "Python 3",
   "language": "python",
   "name": "python3"
  },
  "language_info": {
   "codemirror_mode": {
    "name": "ipython",
    "version": 3
   },
   "file_extension": ".py",
   "mimetype": "text/x-python",
   "name": "python",
   "nbconvert_exporter": "python",
   "pygments_lexer": "ipython3",
   "version": "3.10.6"
  },
  "vscode": {
   "interpreter": {
    "hash": "916dbcbb3f70747c44a77c7bcd40155683ae19c65e1c03b4aa3499c5328201f1"
   }
  }
 },
 "nbformat": 4,
 "nbformat_minor": 1
}
