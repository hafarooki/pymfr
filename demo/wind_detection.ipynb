{
 "cells": [
  {
   "cell_type": "code",
   "execution_count": 1,
   "metadata": {
    "pycharm": {
     "name": "#%%\n"
    },
    "ExecuteTime": {
     "end_time": "2023-09-07T01:08:56.103172800Z",
     "start_time": "2023-09-07T01:08:52.943828600Z"
    }
   },
   "outputs": [],
   "source": [
    "%load_ext autoreload\n",
    "%autoreload 2\n",
    "\n",
    "import pathlib\n",
    "\n",
    "import cdflib\n",
    "import matplotlib.pyplot as plt\n",
    "import numpy as np\n",
    "import pandas as pd\n",
    "import scipy.constants\n",
    "import torch\n",
    "from cdasws import CdasWs\n",
    "\n",
    "from pymfr.detect import detect_flux_ropes\n",
    "from pymfr.reconstruct import reconstruct_map\n"
   ]
  },
  {
   "cell_type": "markdown",
   "source": [],
   "metadata": {
    "collapsed": false
   }
  },
  {
   "cell_type": "code",
   "execution_count": 2,
   "outputs": [
    {
     "data": {
      "text/plain": "1"
     },
     "execution_count": 2,
     "metadata": {},
     "output_type": "execute_result"
    }
   ],
   "source": [
    "torch.cuda.device_count()"
   ],
   "metadata": {
    "collapsed": false,
    "ExecuteTime": {
     "end_time": "2023-09-07T01:08:56.227783700Z",
     "start_time": "2023-09-07T01:08:56.100172Z"
    }
   }
  },
  {
   "cell_type": "code",
   "execution_count": 3,
   "metadata": {
    "collapsed": true,
    "pycharm": {
     "name": "#%%\n"
    },
    "ExecuteTime": {
     "end_time": "2023-09-07T01:08:56.349578400Z",
     "start_time": "2023-09-07T01:08:56.231782700Z"
    }
   },
   "outputs": [],
   "source": [
    "time = ['2016-01-01T00:00:00Z', '2016-02-01T00:00:00Z']\n",
    "\n",
    "file_name = f\"./data/wind_{time[0]}_{time[1]}_1min_nonlin.npz\".replace(':', '-')\n",
    "if not pathlib.Path(file_name).exists():\n",
    "    cdas = CdasWs()\n",
    "\n",
    "    status, data = cdas.get_data('WI_H1_SWE', ['Proton_VX_nonlin',\n",
    "                                               'Proton_VY_nonlin',\n",
    "                                               'Proton_VZ_nonlin',\n",
    "                                               'Proton_Np_nonlin',\n",
    "                                               'Proton_W_nonlin'],\n",
    "                                 time[0], time[1])\n",
    "\n",
    "    datetime = data.Epoch.values\n",
    "\n",
    "    velocity = np.column_stack([data.Proton_VX_nonlin.values,\n",
    "                                data.Proton_VY_nonlin.values,\n",
    "                                data.Proton_VZ_nonlin.values])\n",
    "    velocity[np.any(velocity == data.Proton_VX_nonlin.FILLVAL, axis=1)] = np.nan\n",
    "    velocity[np.any(velocity == data.Proton_VY_nonlin.FILLVAL, axis=1)] = np.nan\n",
    "    velocity[np.any(velocity == data.Proton_VZ_nonlin.FILLVAL, axis=1)] = np.nan\n",
    "    velocity = pd.DataFrame(velocity, index=pd.DatetimeIndex(datetime)).interpolate()\n",
    "    velocity = velocity.resample(\"60s\").mean().shift(0.5, freq=\"60s\").interpolate()\n",
    "    times = velocity.index.values\n",
    "\n",
    "    density = data.Proton_Np_nonlin.values\n",
    "    density[density == data.Proton_Np_nonlin.FILLVAL] = np.nan\n",
    "    density = pd.Series(density, index=pd.DatetimeIndex(datetime)).interpolate()\n",
    "    density = density.resample(\"60s\").mean().shift(0.5, freq=\"60s\").interpolate()\n",
    "\n",
    "    temperature = data.Proton_W_nonlin.values\n",
    "    temperature[temperature == data.Proton_W_nonlin.FILLVAL] = np.nan\n",
    "    temperature = (temperature * 1e3) ** 2 * scipy.constants.m_p / (2 * scipy.constants.Boltzmann) / 1e6\n",
    "    temperature = pd.Series(temperature, index=pd.DatetimeIndex(datetime)).interpolate()\n",
    "    temperature = temperature.resample(\"60s\").mean().shift(0.5, freq=\"60s\").interpolate()\n",
    "\n",
    "    status, data = cdas.get_data('WI_H0_MFI', ['BGSE'], time[0], time[1])\n",
    "\n",
    "    magnetic_field = data.BGSE.values\n",
    "    magnetic_field[np.any(magnetic_field == data.BGSE.FILLVAL, axis=1), :] = np.nan\n",
    "    datetime = data.Epoch.values\n",
    "    magnetic_field = pd.DataFrame(magnetic_field, index=pd.DatetimeIndex(datetime)).interpolate()\n",
    "\n",
    "    magnetic_field = magnetic_field.truncate(times[0], times[-1])\n",
    "    density = density.truncate(magnetic_field.index[0], magnetic_field.index[-1]).values\n",
    "    temperature = temperature.truncate(magnetic_field.index[0], magnetic_field.index[-1]).values\n",
    "    \n",
    "    velocity = velocity.truncate(magnetic_field.index[0], magnetic_field.index[-1]).values\n",
    "    times = magnetic_field.index.values\n",
    "\n",
    "    assert len(magnetic_field) == len(velocity) == len(density)\n",
    "\n",
    "    np.savez_compressed(file_name, magnetic_field=magnetic_field, velocity=velocity, density=density, temperature=temperature, times=times)\n",
    "\n",
    "data = np.load(file_name)\n",
    "\n",
    "magnetic_field = torch.as_tensor(data[\"magnetic_field\"], dtype=torch.float32)\n",
    "velocity = torch.as_tensor(data[\"velocity\"], dtype=torch.float32)\n",
    "density = torch.as_tensor(data[\"density\"], dtype=torch.float32)\n",
    "temperature = torch.as_tensor(data[\"temperature\"], dtype=torch.float32)\n",
    "times = data[\"times\"]"
   ]
  },
  {
   "cell_type": "code",
   "execution_count": 4,
   "metadata": {
    "collapsed": false,
    "pycharm": {
     "name": "#%%\n"
    },
    "ExecuteTime": {
     "end_time": "2023-09-07T01:09:46.151699800Z",
     "start_time": "2023-09-07T01:08:56.350566900Z"
    }
   },
   "outputs": [
    {
     "name": "stderr",
     "output_type": "stream",
     "text": [
      " 66%|██████▌   | 231/350 [00:47<00:24,  4.88it/s]\n"
     ]
    },
    {
     "ename": "KeyboardInterrupt",
     "evalue": "",
     "output_type": "error",
     "traceback": [
      "\u001B[1;31m---------------------------------------------------------------------------\u001B[0m",
      "\u001B[1;31mKeyboardInterrupt\u001B[0m                         Traceback (most recent call last)",
      "Cell \u001B[1;32mIn[4], line 5\u001B[0m\n\u001B[0;32m      1\u001B[0m window_lengths \u001B[38;5;241m=\u001B[39m \u001B[38;5;28mrange\u001B[39m(\u001B[38;5;241m10\u001B[39m, \u001B[38;5;241m360\u001B[39m)\n\u001B[0;32m      3\u001B[0m gas_pressure \u001B[38;5;241m=\u001B[39m scipy\u001B[38;5;241m.\u001B[39mconstants\u001B[38;5;241m.\u001B[39mBoltzmann \u001B[38;5;241m*\u001B[39m (density \u001B[38;5;241m*\u001B[39m \u001B[38;5;241m1e6\u001B[39m) \u001B[38;5;241m*\u001B[39m (temperature \u001B[38;5;241m*\u001B[39m \u001B[38;5;241m1e6\u001B[39m) \u001B[38;5;241m*\u001B[39m \u001B[38;5;241m1e9\u001B[39m\n\u001B[1;32m----> 5\u001B[0m results \u001B[38;5;241m=\u001B[39m \u001B[43mdetect_flux_ropes\u001B[49m\u001B[43m(\u001B[49m\u001B[43mmagnetic_field\u001B[49m\u001B[43m,\u001B[49m\u001B[43m \u001B[49m\u001B[43mvelocity\u001B[49m\u001B[43m,\u001B[49m\u001B[43m \u001B[49m\u001B[43mdensity\u001B[49m\u001B[43m,\u001B[49m\u001B[43m \u001B[49m\u001B[43mgas_pressure\u001B[49m\u001B[43m,\u001B[49m\n\u001B[0;32m      6\u001B[0m \u001B[43m                            \u001B[49m\u001B[43mbatch_size\u001B[49m\u001B[38;5;241;43m=\u001B[39;49m\u001B[38;5;241;43m10000\u001B[39;49m\u001B[43m,\u001B[49m\n\u001B[0;32m      7\u001B[0m \u001B[43m                            \u001B[49m\u001B[43mwindow_steps\u001B[49m\u001B[38;5;241;43m=\u001B[39;49m\u001B[43m[\u001B[49m\u001B[38;5;241;43m1\u001B[39;49m\u001B[43m]\u001B[49m\u001B[43m \u001B[49m\u001B[38;5;241;43m*\u001B[39;49m\u001B[43m \u001B[49m\u001B[38;5;28;43mlen\u001B[39;49m\u001B[43m(\u001B[49m\u001B[43mwindow_lengths\u001B[49m\u001B[43m)\u001B[49m\u001B[43m,\u001B[49m\n\u001B[0;32m      8\u001B[0m \u001B[43m                            \u001B[49m\u001B[43mwindow_lengths\u001B[49m\u001B[38;5;241;43m=\u001B[39;49m\u001B[43mwindow_lengths\u001B[49m\u001B[43m,\u001B[49m\n\u001B[0;32m      9\u001B[0m \u001B[43m                            \u001B[49m\u001B[43msample_spacing\u001B[49m\u001B[38;5;241;43m=\u001B[39;49m\u001B[38;5;241;43m60\u001B[39;49m\u001B[43m,\u001B[49m\n\u001B[0;32m     10\u001B[0m \u001B[43m                            \u001B[49m\u001B[43mn_trial_axes\u001B[49m\u001B[38;5;241;43m=\u001B[39;49m\u001B[38;5;241;43m256\u001B[39;49m\u001B[43m,\u001B[49m\n\u001B[0;32m     11\u001B[0m \u001B[43m                            \u001B[49m\u001B[43mthreshold_diff\u001B[49m\u001B[38;5;241;43m=\u001B[39;49m\u001B[38;5;241;43m0.3\u001B[39;49m\u001B[43m,\u001B[49m\n\u001B[0;32m     12\u001B[0m \u001B[43m                            \u001B[49m\u001B[43mthreshold_fit\u001B[49m\u001B[38;5;241;43m=\u001B[39;49m\u001B[38;5;241;43m0.2\u001B[39;49m\u001B[43m,\u001B[49m\n\u001B[0;32m     13\u001B[0m \u001B[43m                            \u001B[49m\u001B[43mmax_processing_resolution\u001B[49m\u001B[38;5;241;43m=\u001B[39;49m\u001B[38;5;241;43m32\u001B[39;49m\u001B[43m,\u001B[49m\n\u001B[0;32m     14\u001B[0m \u001B[43m                            \u001B[49m\u001B[43mcuda\u001B[49m\u001B[38;5;241;43m=\u001B[39;49m\u001B[38;5;28;43;01mTrue\u001B[39;49;00m\u001B[43m)\u001B[49m\n",
      "File \u001B[1;32m~\\Research\\pymfr\\pymfr\\detect.py:127\u001B[0m, in \u001B[0;36mdetect_flux_ropes\u001B[1;34m(magnetic_field, velocity, density, gas_pressure, batch_size, window_lengths, window_steps, sample_spacing, threshold_frame_quality, threshold_diff, threshold_fit, threshold_walen_slope, threshold_flow_field_alignment, n_trial_axes, max_processing_resolution, cuda, progress_bar)\u001B[0m\n\u001B[0;32m    118\u001B[0m window_frames \u001B[38;5;241m=\u001B[39m _sliding_frames(scaled_tensor, window_length, window_step)\n\u001B[0;32m    120\u001B[0m window_vertical_directions \u001B[38;5;241m=\u001B[39m _sliding_vertical_directions(scaled_tensor, window_length, window_step,\n\u001B[0;32m    121\u001B[0m                                                           window_data,\n\u001B[0;32m    122\u001B[0m                                                           window_frames,\n\u001B[0;32m    123\u001B[0m                                                           window_avg_field_strength,\n\u001B[0;32m    124\u001B[0m                                                           batch_size,\n\u001B[0;32m    125\u001B[0m                                                           n_trial_axes)\n\u001B[1;32m--> 127\u001B[0m output \u001B[38;5;241m=\u001B[39m \u001B[43m_batch_process\u001B[49m\u001B[43m(\u001B[49m\u001B[43mbatch_size\u001B[49m\u001B[43m,\u001B[49m\n\u001B[0;32m    128\u001B[0m \u001B[43m                        \u001B[49m\u001B[43mnominal_window_length\u001B[49m\u001B[43m,\u001B[49m\n\u001B[0;32m    129\u001B[0m \u001B[43m                        \u001B[49m\u001B[43msample_spacing\u001B[49m\u001B[43m,\u001B[49m\n\u001B[0;32m    130\u001B[0m \u001B[43m                        \u001B[49m\u001B[43mthreshold_frame_quality\u001B[49m\u001B[43m,\u001B[49m\n\u001B[0;32m    131\u001B[0m \u001B[43m                        \u001B[49m\u001B[43mthreshold_diff\u001B[49m\u001B[43m,\u001B[49m\n\u001B[0;32m    132\u001B[0m \u001B[43m                        \u001B[49m\u001B[43mthreshold_fit\u001B[49m\u001B[43m,\u001B[49m\n\u001B[0;32m    133\u001B[0m \u001B[43m                        \u001B[49m\u001B[43mthreshold_walen_slope\u001B[49m\u001B[43m,\u001B[49m\n\u001B[0;32m    134\u001B[0m \u001B[43m                        \u001B[49m\u001B[43mthreshold_flow_field_alignment\u001B[49m\u001B[43m,\u001B[49m\n\u001B[0;32m    135\u001B[0m \u001B[43m                        \u001B[49m\u001B[43mn_trial_axes\u001B[49m\u001B[43m,\u001B[49m\n\u001B[0;32m    136\u001B[0m \u001B[43m                        \u001B[49m\u001B[43mwindow_overlaps\u001B[49m\u001B[43m,\u001B[49m\n\u001B[0;32m    137\u001B[0m \u001B[43m                        \u001B[49m\u001B[43mwindow_data\u001B[49m\u001B[43m,\u001B[49m\n\u001B[0;32m    138\u001B[0m \u001B[43m                        \u001B[49m\u001B[43mwindow_frames\u001B[49m\u001B[43m,\u001B[49m\n\u001B[0;32m    139\u001B[0m \u001B[43m                        \u001B[49m\u001B[43mwindow_starts\u001B[49m\u001B[43m,\u001B[49m\n\u001B[0;32m    140\u001B[0m \u001B[43m                        \u001B[49m\u001B[43mwindow_vertical_directions\u001B[49m\u001B[43m,\u001B[49m\n\u001B[0;32m    141\u001B[0m \u001B[43m                        \u001B[49m\u001B[43mcontains_existing\u001B[49m\u001B[43m)\u001B[49m\n\u001B[0;32m    143\u001B[0m \u001B[38;5;28;01mif\u001B[39;00m output \u001B[38;5;129;01mis\u001B[39;00m \u001B[38;5;28;01mNone\u001B[39;00m:\n\u001B[0;32m    144\u001B[0m     \u001B[38;5;28;01mcontinue\u001B[39;00m\n",
      "File \u001B[1;32m~\\Research\\pymfr\\pymfr\\detect.py:244\u001B[0m, in \u001B[0;36m_batch_process\u001B[1;34m(batch_size, nominal_window_length, sample_spacing, threshold_frame_quality, threshold_diff, threshold_fit, threshold_walen_slope, threshold_flow_field_alignment, n_trial_axes, window_overlaps, window_data, window_frames, window_starts, window_vertical_directions, contains_existing)\u001B[0m\n\u001B[0;32m    241\u001B[0m \u001B[38;5;28;01mif\u001B[39;00m \u001B[38;5;241m~\u001B[39mtorch\u001B[38;5;241m.\u001B[39many(window_mask):\n\u001B[0;32m    242\u001B[0m     \u001B[38;5;28;01mreturn\u001B[39;00m \u001B[38;5;28;01mNone\u001B[39;00m\n\u001B[1;32m--> 244\u001B[0m window_axes, window_error_diff, window_walen_slope, window_flow_field_alignment \u001B[38;5;241m=\u001B[39m \u001B[43mexecute_batched\u001B[49m\u001B[43m(\u001B[49m\n\u001B[0;32m    245\u001B[0m \u001B[43m    \u001B[49m\u001B[43mpartial\u001B[49m\u001B[43m(\u001B[49m\u001B[43m_find_axes\u001B[49m\u001B[43m,\u001B[49m\n\u001B[0;32m    246\u001B[0m \u001B[43m            \u001B[49m\u001B[43mthreshold_diff\u001B[49m\u001B[38;5;241;43m=\u001B[39;49m\u001B[43mthreshold_diff\u001B[49m\u001B[43m,\u001B[49m\n\u001B[0;32m    247\u001B[0m \u001B[43m            \u001B[49m\u001B[43mthreshold_walen_slope\u001B[49m\u001B[38;5;241;43m=\u001B[39;49m\u001B[43mthreshold_walen_slope\u001B[49m\u001B[43m,\u001B[49m\n\u001B[0;32m    248\u001B[0m \u001B[43m            \u001B[49m\u001B[43mthreshold_flow_field_alignment\u001B[49m\u001B[38;5;241;43m=\u001B[39;49m\u001B[43mthreshold_flow_field_alignment\u001B[49m\u001B[43m,\u001B[49m\n\u001B[0;32m    249\u001B[0m \u001B[43m            \u001B[49m\u001B[43mn_trial_axes\u001B[49m\u001B[38;5;241;43m=\u001B[39;49m\u001B[43mn_trial_axes\u001B[49m\u001B[43m,\u001B[49m\n\u001B[0;32m    250\u001B[0m \u001B[43m            \u001B[49m\u001B[43mwindow_frames\u001B[49m\u001B[38;5;241;43m=\u001B[39;49m\u001B[43mwindow_frames\u001B[49m\u001B[43m,\u001B[49m\n\u001B[0;32m    251\u001B[0m \u001B[43m            \u001B[49m\u001B[43mwindow_vertical_directions\u001B[49m\u001B[38;5;241;43m=\u001B[39;49m\u001B[43mwindow_vertical_directions\u001B[49m\u001B[43m)\u001B[49m\u001B[43m)\u001B[49m\n\u001B[0;32m    253\u001B[0m \u001B[38;5;28;01mif\u001B[39;00m \u001B[38;5;241m~\u001B[39mtorch\u001B[38;5;241m.\u001B[39many(window_mask):\n\u001B[0;32m    254\u001B[0m     \u001B[38;5;28;01mreturn\u001B[39;00m \u001B[38;5;28;01mNone\u001B[39;00m\n",
      "File \u001B[1;32m~\\Research\\pymfr\\pymfr\\detect.py:200\u001B[0m, in \u001B[0;36m_batch_process.<locals>.execute_batched\u001B[1;34m(function, dense)\u001B[0m\n\u001B[0;32m    196\u001B[0m     \u001B[38;5;28;01mcontinue\u001B[39;00m\n\u001B[0;32m    198\u001B[0m \u001B[38;5;28;01massert\u001B[39;00m \u001B[38;5;28mlen\u001B[39m(batch_indices) \u001B[38;5;241m==\u001B[39m \u001B[38;5;28mlen\u001B[39m(batch_data), \u001B[38;5;124mf\u001B[39m\u001B[38;5;124m\"\u001B[39m\u001B[38;5;132;01m{\u001B[39;00m\u001B[38;5;28mlen\u001B[39m(batch_indices)\u001B[38;5;132;01m}\u001B[39;00m\u001B[38;5;124m vs \u001B[39m\u001B[38;5;132;01m{\u001B[39;00m\u001B[38;5;28mlen\u001B[39m(batch_data)\u001B[38;5;132;01m}\u001B[39;00m\u001B[38;5;124m\"\u001B[39m\n\u001B[1;32m--> 200\u001B[0m batch_output \u001B[38;5;241m=\u001B[39m \u001B[43mfunction\u001B[49m\u001B[43m(\u001B[49m\u001B[43mbatch_indices\u001B[49m\u001B[38;5;241;43m=\u001B[39;49m\u001B[43mbatch_indices\u001B[49m\u001B[43m,\u001B[49m\u001B[43m \u001B[49m\u001B[43mbatch_data\u001B[49m\u001B[38;5;241;43m=\u001B[39;49m\u001B[43mbatch_data\u001B[49m\u001B[43m)\u001B[49m\n\u001B[0;32m    201\u001B[0m \u001B[38;5;28;01mif\u001B[39;00m \u001B[38;5;28mtype\u001B[39m(batch_output) \u001B[38;5;241m!=\u001B[39m \u001B[38;5;28mtuple\u001B[39m:\n\u001B[0;32m    202\u001B[0m     batch_output \u001B[38;5;241m=\u001B[39m (batch_output,)\n",
      "File \u001B[1;32m~\\Research\\pymfr\\pymfr\\detect.py:375\u001B[0m, in \u001B[0;36m_find_axes\u001B[1;34m(batch_data, threshold_walen_slope, threshold_flow_field_alignment, batch_indices, threshold_diff, n_trial_axes, window_frames, window_vertical_directions)\u001B[0m\n\u001B[0;32m    371\u001B[0m batch_gas_pressure \u001B[38;5;241m=\u001B[39m batch_data[:, :, \u001B[38;5;241m12\u001B[39m]\n\u001B[0;32m    373\u001B[0m batch_normalized_potential \u001B[38;5;241m=\u001B[39m _calculate_normalized_potential(batch_magnetic_field, batch_vertical_directions)\n\u001B[1;32m--> 375\u001B[0m batch_axes, axis_residue \u001B[38;5;241m=\u001B[39m \u001B[43m_minimize_axis_residue\u001B[49m\u001B[43m(\u001B[49m\u001B[43mbatch_magnetic_field\u001B[49m\u001B[43m,\u001B[49m\n\u001B[0;32m    376\u001B[0m \u001B[43m                                                  \u001B[49m\u001B[43mbatch_vertical_directions\u001B[49m\u001B[43m,\u001B[49m\n\u001B[0;32m    377\u001B[0m \u001B[43m                                                  \u001B[49m\u001B[43mbatch_normalized_potential\u001B[49m\u001B[43m,\u001B[49m\n\u001B[0;32m    378\u001B[0m \u001B[43m                                                  \u001B[49m\u001B[43mn_trial_axes\u001B[49m\u001B[43m)\u001B[49m\n\u001B[0;32m    380\u001B[0m axial_component \u001B[38;5;241m=\u001B[39m (batch_magnetic_field \u001B[38;5;241m@\u001B[39m batch_axes\u001B[38;5;241m.\u001B[39munsqueeze(\u001B[38;5;241m-\u001B[39m\u001B[38;5;241m1\u001B[39m))\u001B[38;5;241m.\u001B[39msqueeze(\u001B[38;5;241m-\u001B[39m\u001B[38;5;241m1\u001B[39m)\n\u001B[0;32m    382\u001B[0m batch_velocity \u001B[38;5;241m=\u001B[39m batch_data[:, :, \u001B[38;5;241m3\u001B[39m:\u001B[38;5;241m6\u001B[39m]\n",
      "File \u001B[1;32m~\\Research\\pymfr\\pymfr\\detect.py:568\u001B[0m, in \u001B[0;36m_minimize_axis_residue\u001B[1;34m(magnetic_field, vertical_directions, potential, n_trial_axes, return_residue)\u001B[0m\n\u001B[0;32m    564\u001B[0m initial_guess \u001B[38;5;241m=\u001B[39m initial_guess \u001B[38;5;241m-\u001B[39m (initial_guess \u001B[38;5;241m*\u001B[39m vertical_directions)\u001B[38;5;241m.\u001B[39msum(dim\u001B[38;5;241m=\u001B[39m\u001B[38;5;241m-\u001B[39m\u001B[38;5;241m1\u001B[39m,\n\u001B[0;32m    565\u001B[0m                                                                           keepdims\u001B[38;5;241m=\u001B[39m\u001B[38;5;28;01mTrue\u001B[39;00m) \u001B[38;5;241m*\u001B[39m vertical_directions\n\u001B[0;32m    566\u001B[0m axes \u001B[38;5;241m=\u001B[39m F\u001B[38;5;241m.\u001B[39mnormalize(initial_guess, dim\u001B[38;5;241m=\u001B[39m\u001B[38;5;241m-\u001B[39m\u001B[38;5;241m1\u001B[39m)\n\u001B[1;32m--> 568\u001B[0m axes, residue \u001B[38;5;241m=\u001B[39m \u001B[43m_minimize_axis_residue_narrower\u001B[49m\u001B[43m(\u001B[49m\u001B[43mmagnetic_field\u001B[49m\u001B[43m,\u001B[49m\u001B[43m \u001B[49m\u001B[43mvertical_directions\u001B[49m\u001B[43m,\u001B[49m\u001B[43m \u001B[49m\u001B[43mpotential\u001B[49m\u001B[43m,\u001B[49m\u001B[43m \u001B[49m\u001B[43mn_trial_axes\u001B[49m\u001B[43m,\u001B[49m\u001B[43m \u001B[49m\u001B[43maxes\u001B[49m\u001B[43m)\u001B[49m\n\u001B[0;32m    570\u001B[0m \u001B[38;5;28;01mif\u001B[39;00m return_residue:\n\u001B[0;32m    571\u001B[0m     \u001B[38;5;28;01mreturn\u001B[39;00m axes, residue\n",
      "File \u001B[1;32m~\\Research\\pymfr\\pymfr\\detect.py:601\u001B[0m, in \u001B[0;36m_minimize_axis_residue_narrower\u001B[1;34m(magnetic_field, vertical_directions, potential, n_trial_axes, initial_axes)\u001B[0m\n\u001B[0;32m    594\u001B[0m trial_axes \u001B[38;5;241m=\u001B[39m F\u001B[38;5;241m.\u001B[39mnormalize(\n\u001B[0;32m    595\u001B[0m     initial_axes\u001B[38;5;241m.\u001B[39munsqueeze(\u001B[38;5;241m1\u001B[39m) \u001B[38;5;241m*\u001B[39m torch\u001B[38;5;241m.\u001B[39mcos(angle) \u001B[38;5;241m+\u001B[39m alternative_directions\u001B[38;5;241m.\u001B[39munsqueeze(\u001B[38;5;241m1\u001B[39m) \u001B[38;5;241m*\u001B[39m torch\u001B[38;5;241m.\u001B[39msin(angle), dim\u001B[38;5;241m=\u001B[39m\u001B[38;5;241m-\u001B[39m\u001B[38;5;241m1\u001B[39m)\n\u001B[0;32m    597\u001B[0m \u001B[38;5;66;03m# For determining the axis we only use magnetic field data, not gas pressure\u001B[39;00m\n\u001B[0;32m    598\u001B[0m \u001B[38;5;66;03m# This is because gas pressure error diff is not affected by rotations about the y axis\u001B[39;00m\n\u001B[0;32m    599\u001B[0m \u001B[38;5;66;03m# unlike Bz, which depends on the axis orientation\u001B[39;00m\n\u001B[0;32m    600\u001B[0m \u001B[38;5;66;03m# Bz itself is conserved along field lines, and this way we can compare the SIGN of Bz as well\u001B[39;00m\n\u001B[1;32m--> 601\u001B[0m error_diff_axis \u001B[38;5;241m=\u001B[39m \u001B[43m_calculate_residue_map\u001B[49m\u001B[43m(\u001B[49m\u001B[43mmagnetic_field\u001B[49m\u001B[43m,\u001B[49m\u001B[43m \u001B[49m\u001B[43mtrial_axes\u001B[49m\u001B[43m,\u001B[49m\u001B[43m \u001B[49m\u001B[43mpotential\u001B[49m\u001B[43m)\u001B[49m\n\u001B[0;32m    603\u001B[0m \u001B[38;5;66;03m# select the best orientation\u001B[39;00m\n\u001B[0;32m    604\u001B[0m residue, argmin \u001B[38;5;241m=\u001B[39m error_diff_axis\u001B[38;5;241m.\u001B[39mmin(dim\u001B[38;5;241m=\u001B[39m\u001B[38;5;241m-\u001B[39m\u001B[38;5;241m1\u001B[39m)\n",
      "File \u001B[1;32m~\\Research\\pymfr\\pymfr\\detect.py:578\u001B[0m, in \u001B[0;36m_calculate_residue_map\u001B[1;34m(magnetic_field, trial_axes, potential)\u001B[0m\n\u001B[0;32m    576\u001B[0m \u001B[38;5;28;01mdef\u001B[39;00m \u001B[38;5;21m_calculate_residue_map\u001B[39m(magnetic_field, trial_axes, potential):\n\u001B[0;32m    577\u001B[0m     difference_vectors \u001B[38;5;241m=\u001B[39m torch\u001B[38;5;241m.\u001B[39mstack(\n\u001B[1;32m--> 578\u001B[0m         [_calculate_folding_differences(potential, magnetic_field[:, :, i]) \u001B[38;5;28;01mfor\u001B[39;00m i \u001B[38;5;129;01min\u001B[39;00m \u001B[38;5;28mrange\u001B[39m(\u001B[38;5;241m3\u001B[39m)], dim\u001B[38;5;241m=\u001B[39m\u001B[38;5;241m-\u001B[39m\u001B[38;5;241m1\u001B[39m)\n\u001B[0;32m    580\u001B[0m     differences \u001B[38;5;241m=\u001B[39m difference_vectors \u001B[38;5;241m@\u001B[39m trial_axes\u001B[38;5;241m.\u001B[39mtranspose(\u001B[38;5;241m1\u001B[39m, \u001B[38;5;241m2\u001B[39m)\n\u001B[0;32m    581\u001B[0m     axial \u001B[38;5;241m=\u001B[39m magnetic_field \u001B[38;5;241m@\u001B[39m trial_axes\u001B[38;5;241m.\u001B[39mtranspose(\u001B[38;5;241m1\u001B[39m, \u001B[38;5;241m2\u001B[39m)\n",
      "File \u001B[1;32m~\\Research\\pymfr\\pymfr\\detect.py:578\u001B[0m, in \u001B[0;36m<listcomp>\u001B[1;34m(.0)\u001B[0m\n\u001B[0;32m    576\u001B[0m \u001B[38;5;28;01mdef\u001B[39;00m \u001B[38;5;21m_calculate_residue_map\u001B[39m(magnetic_field, trial_axes, potential):\n\u001B[0;32m    577\u001B[0m     difference_vectors \u001B[38;5;241m=\u001B[39m torch\u001B[38;5;241m.\u001B[39mstack(\n\u001B[1;32m--> 578\u001B[0m         [\u001B[43m_calculate_folding_differences\u001B[49m\u001B[43m(\u001B[49m\u001B[43mpotential\u001B[49m\u001B[43m,\u001B[49m\u001B[43m \u001B[49m\u001B[43mmagnetic_field\u001B[49m\u001B[43m[\u001B[49m\u001B[43m:\u001B[49m\u001B[43m,\u001B[49m\u001B[43m \u001B[49m\u001B[43m:\u001B[49m\u001B[43m,\u001B[49m\u001B[43m \u001B[49m\u001B[43mi\u001B[49m\u001B[43m]\u001B[49m\u001B[43m)\u001B[49m \u001B[38;5;28;01mfor\u001B[39;00m i \u001B[38;5;129;01min\u001B[39;00m \u001B[38;5;28mrange\u001B[39m(\u001B[38;5;241m3\u001B[39m)], dim\u001B[38;5;241m=\u001B[39m\u001B[38;5;241m-\u001B[39m\u001B[38;5;241m1\u001B[39m)\n\u001B[0;32m    580\u001B[0m     differences \u001B[38;5;241m=\u001B[39m difference_vectors \u001B[38;5;241m@\u001B[39m trial_axes\u001B[38;5;241m.\u001B[39mtranspose(\u001B[38;5;241m1\u001B[39m, \u001B[38;5;241m2\u001B[39m)\n\u001B[0;32m    581\u001B[0m     axial \u001B[38;5;241m=\u001B[39m magnetic_field \u001B[38;5;241m@\u001B[39m trial_axes\u001B[38;5;241m.\u001B[39mtranspose(\u001B[38;5;241m1\u001B[39m, \u001B[38;5;241m2\u001B[39m)\n",
      "File \u001B[1;32m~\\Research\\pymfr\\pymfr\\residue.py:68\u001B[0m, in \u001B[0;36m_calculate_folding_differences\u001B[1;34m(potential, quantity)\u001B[0m\n\u001B[0;32m     67\u001B[0m \u001B[38;5;28;01mdef\u001B[39;00m \u001B[38;5;21m_calculate_folding_differences\u001B[39m(potential, quantity):\n\u001B[1;32m---> 68\u001B[0m     interpolated1, interpolated2 \u001B[38;5;241m=\u001B[39m \u001B[43m_calculate_interpolated_values\u001B[49m\u001B[43m(\u001B[49m\u001B[43mpotential\u001B[49m\u001B[43m,\u001B[49m\u001B[43m \u001B[49m\u001B[43mquantity\u001B[49m\u001B[43m)\u001B[49m\n\u001B[0;32m     70\u001B[0m     \u001B[38;5;28;01mreturn\u001B[39;00m interpolated2 \u001B[38;5;241m-\u001B[39m interpolated1\n",
      "File \u001B[1;32m~\\Research\\pymfr\\pymfr\\residue.py:46\u001B[0m, in \u001B[0;36m_calculate_interpolated_values\u001B[1;34m(potential, quantity)\u001B[0m\n\u001B[0;32m     43\u001B[0m folded_data[:, \u001B[38;5;241m3\u001B[39m, :] \u001B[38;5;241m=\u001B[39m folded_data[:, \u001B[38;5;241m3\u001B[39m, :]\u001B[38;5;241m.\u001B[39mgather(\u001B[38;5;241m1\u001B[39m, sort2)\n\u001B[0;32m     45\u001B[0m \u001B[38;5;66;03m# scale x axis from ~0 to 1\u001B[39;00m\n\u001B[1;32m---> 46\u001B[0m peak_values \u001B[38;5;241m=\u001B[39m \u001B[43mfolded_data\u001B[49m\u001B[43m[\u001B[49m\u001B[43m:\u001B[49m\u001B[43m,\u001B[49m\u001B[43m \u001B[49m\u001B[38;5;241;43m2\u001B[39;49m\u001B[43m,\u001B[49m\u001B[43m \u001B[49m\u001B[43m:\u001B[49m\u001B[43m]\u001B[49m\u001B[38;5;241;43m.\u001B[39;49m\u001B[43mamax\u001B[49m\u001B[43m(\u001B[49m\u001B[43mdim\u001B[49m\u001B[38;5;241;43m=\u001B[39;49m\u001B[38;5;241;43m-\u001B[39;49m\u001B[38;5;241;43m1\u001B[39;49m\u001B[43m,\u001B[49m\u001B[43m \u001B[49m\u001B[43mkeepdim\u001B[49m\u001B[38;5;241;43m=\u001B[39;49m\u001B[38;5;28;43;01mTrue\u001B[39;49;00m\u001B[43m)\u001B[49m\n\u001B[0;32m     47\u001B[0m folded_data[:, \u001B[38;5;241m0\u001B[39m, :] \u001B[38;5;241m/\u001B[39m\u001B[38;5;241m=\u001B[39m peak_values\n\u001B[0;32m     48\u001B[0m folded_data[:, \u001B[38;5;241m2\u001B[39m, :] \u001B[38;5;241m/\u001B[39m\u001B[38;5;241m=\u001B[39m peak_values\n",
      "\u001B[1;31mKeyboardInterrupt\u001B[0m: "
     ]
    }
   ],
   "source": [
    "window_lengths = range(10, 360)\n",
    "\n",
    "gas_pressure = scipy.constants.Boltzmann * (density * 1e6) * (temperature * 1e6) * 1e9\n",
    "\n",
    "results = detect_flux_ropes(magnetic_field, velocity, density, gas_pressure,\n",
    "                            batch_size=10000,\n",
    "                            window_steps=[1] * len(window_lengths),\n",
    "                            window_lengths=window_lengths,\n",
    "                            sample_spacing=60,\n",
    "                            n_trial_axes=256,\n",
    "                            threshold_diff=0.3,\n",
    "                            threshold_fit=0.2,\n",
    "                            max_processing_resolution=32,\n",
    "                            cuda=True)\n",
    "\n"
   ]
  },
  {
   "cell_type": "code",
   "execution_count": null,
   "metadata": {
    "ExecuteTime": {
     "end_time": "2023-09-07T01:09:46.159699700Z",
     "start_time": "2023-09-07T01:09:46.152700200Z"
    }
   },
   "outputs": [],
   "source": [
    "len(results.event)"
   ]
  },
  {
   "cell_type": "code",
   "execution_count": null,
   "metadata": {
    "collapsed": false,
    "pycharm": {
     "name": "#%%\n"
    },
    "ExecuteTime": {
     "start_time": "2023-09-07T01:09:46.154699300Z"
    }
   },
   "outputs": [],
   "source": [
    "def spherical(x, y, z):\n",
    "    altitude = np.rad2deg(np.arctan2(np.sqrt(x ** 2 + y ** 2), z))\n",
    "    azimuth = np.rad2deg(np.arctan2(y, x))\n",
    "    return altitude, azimuth\n",
    "\n",
    "\n",
    "for i_event in list(sorted(results.event, reverse=False, key=lambda x: results.window_start.sel(event=x)))[:10]:\n",
    "    event = results.sel(event=i_event)\n",
    "    axis = event[[\"axis_x\", \"axis_y\", \"axis_z\"]].to_array().values\n",
    "    propagation_velocity = event[[\"velocity_x\", \"velocity_y\", \"velocity_z\"]].to_array().values\n",
    "    window_start = event.window_start.item()\n",
    "    window_length = event.window_length.item()\n",
    "    temporal_scale = event.temporal_scale.item()\n",
    "    residue = event.residue_diff.item()\n",
    "    error_fit = event.residue_fit.item()\n",
    "\n",
    "    event_flow_velocity = velocity[window_start:window_start + window_length].cpu().numpy()\n",
    "    event_magnetic_field = magnetic_field[window_start:window_start + window_length].cpu().numpy()\n",
    "    event_density = density[window_start:window_start + window_length].cpu().numpy()\n",
    "    Pgas = gas_pressure[window_start:window_start + window_length].cpu().numpy()\n",
    "\n",
    "    x_unit = -(propagation_velocity - np.dot(propagation_velocity, axis) * axis)\n",
    "    x_unit = x_unit / np.linalg.norm(x_unit)\n",
    "    y_unit = np.cross(axis, x_unit)\n",
    "    rotation_matrix = np.column_stack([x_unit, y_unit, axis])\n",
    "    rotation_matrix = rotation_matrix.T  # transpose gives inverse of rotation matrix\n",
    "    alfven_velocity = event_magnetic_field / np.sqrt(scipy.constants.mu_0\n",
    "                                            * scipy.constants.m_p\n",
    "                                            * np.expand_dims(event_density, axis=1)) * 1e-15\n",
    "    remaining_flow = event_flow_velocity - propagation_velocity\n",
    "\n",
    "    d_flow = remaining_flow - remaining_flow.mean()\n",
    "    d_alfven = alfven_velocity - alfven_velocity.mean()\n",
    "    walen_slope = (d_flow * d_alfven).sum() / (d_alfven ** 2).sum()\n",
    "\n",
    "    # if walen_slope > 0.3:\n",
    "    #     continue\n",
    "\n",
    "    print(times[window_start], \" to \", times[window_start + window_length])\n",
    "    print(\"window length:\", window_length)\n",
    "    print(\"duration:\", temporal_scale / 60)\n",
    "    print(\"error:\", round(residue, 3), round(error_fit, 3))\n",
    "    print(\"walen slope:\", round(walen_slope, 3))\n",
    "    print(\"alfvenicity:\", round(event.walen_slope.item(), 3))\n",
    "    print(\"<B>:\", round(np.linalg.norm(event_magnetic_field, axis=1).mean(), 2))\n",
    "    altitude, azimuth = spherical(*axis)\n",
    "    print(\"Altitude/azimuth:\", round(altitude), \"/\", round(azimuth % 360))\n",
    "    print(\"Frame quality:\", event.frame_quality.item())\n",
    "    print(\"Field alignment\", event.flow_field_alignment.item())\n",
    "\n",
    "    rotated = rotation_matrix @ event_magnetic_field.T\n",
    "\n",
    "    dx = np.linalg.norm(np.dot(propagation_velocity, x_unit)) * 60\n",
    "    A = scipy.integrate.cumulative_trapezoid(-rotated[1], initial=0, dx=dx)\n",
    "    alpha = event.walen_slope.item() ** 2\n",
    "    Pt = Pgas / (1 - alpha) + ((rotated[2] * 1e-9) ** 2 + (alpha / (1 - alpha)) * (np.linalg.norm(rotated, axis=0)* 1e-9) ** 2) / (2 * 1.25663706212e-6) * 1e9\n",
    "\n",
    "    colors = [\"red\", \"green\", \"blue\"]\n",
    "\n",
    "    A_peak = A[np.abs(A).argmax()]\n",
    "    A_sign = np.sign(A_peak)\n",
    "\n",
    "    map_core_mask = event.map_core_mask.values\n",
    "    map_A = event.map_Az.values\n",
    "    \n",
    "    closed_min = (map_A[map_core_mask] * A_sign).min()\n",
    "    closed_max = (map_A[map_core_mask] * A_sign).max()\n",
    "\n",
    "    for i, color in enumerate(colors):\n",
    "        plt.scatter(alfven_velocity[:, i], remaining_flow[:, i], color=color)\n",
    "        plt.xlabel(r\"$v_A$\")\n",
    "        plt.ylabel(r\"$v - v_{HT}$\")\n",
    "    plt.show()\n",
    "\n",
    "    for i_color, color in enumerate(colors):\n",
    "        plt.plot(np.linspace(0, 1, len(rotated[i_color])), rotated[i_color], color=color)\n",
    "    plt.plot(np.linspace(0, 1, len(rotated[0])), np.linalg.norm(rotated, axis=0), color=\"black\")\n",
    "\n",
    "\n",
    "    plt.plot(np.linspace(0, 1, 15), event.map_Bx[event.map_Bx.shape[0] // 2, :], color=\"red\")\n",
    "    plt.plot(np.linspace(0, 1, 15), event.map_By[event.map_By.shape[0] // 2, :], color=\"green\")\n",
    "    plt.plot(np.linspace(0, 1, 15), event.map_Bz[event.map_Bz.shape[0] // 2, :], color=\"blue\")\n",
    "    \n",
    "    plt.show()\n",
    "    plt.plot(np.linspace(0, 1, len(A)), A)\n",
    "    plt.plot(np.linspace(0, 1, 15), map_A[map_A.shape[0] // 2, :])\n",
    "    plt.axhline(closed_min * A_sign)\n",
    "    plt.axhline(closed_max * A_sign)\n",
    "    plt.show()\n",
    "\n",
    "    plt.scatter(A, rotated[2])\n",
    "    plt.plot(A, rotated[2])\n",
    "    plt.xlabel(\"A\")\n",
    "    plt.ylabel(\"Bz\")\n",
    "    plt.show()\n",
    "\n",
    "    plt.scatter(A, Pt)\n",
    "    # plt.ylim(0, Pt.max() * 1.5)\n",
    "    plt.plot(A, Pt)\n",
    "    plt.xlabel(\"A\")\n",
    "    plt.ylabel(\"Pt\")\n",
    "    plt.show()\n",
    "\n",
    "    extent = (-1, 1, -1, 1)\n",
    "\n",
    "    plt.imshow(event.map_Bz, vmin=max(0, rotated[2].min()), vmax=rotated[2].max(), interpolation=\"bicubic\", extent=extent, origin=\"lower\")\n",
    "    # plt.imshow(map_A / A_peak, vmin=0, cmap=\"gist_heat\", extent=extent, origin=\"lower\")\n",
    "    plt.colorbar()\n",
    "    enclosed_levels = (map_A[map_core_mask] * A_sign)\n",
    "    levels = np.linspace(0, enclosed_levels.max(), 10)\n",
    "    plt.contour(map_A * A_sign, origin=\"lower\", extent=extent, levels=levels, colors=\"black\", algorithm=\"serial\", antialiased=True)\n",
    "   \n",
    "    plt.xlim(extent[0], extent[1])\n",
    "    plt.ylim(extent[2], extent[3])\n",
    "    \n",
    "\n",
    "    print(\"closed %\", int(100 * map_core_mask.mean()))\n",
    "    print(\"width\", np.any(map_core_mask, axis=-2).sum() / 15)\n",
    "    print(\"height\", np.any(map_core_mask, axis=-1).sum() / 15)\n",
    "\n",
    "    poloidal_flux = (closed_max - closed_min) * 1e-9 * 1.5e8\n",
    "    axial_flux = (event.map_Bz.values[map_core_mask] * dx ** 2).sum().item() * 1e-9\n",
    "\n",
    "    print(\"poloidal flux per au\", poloidal_flux)\n",
    "    print(\"axial flux\", axial_flux)\n",
    "    print(\"twist per au\", poloidal_flux / axial_flux)\n",
    "    print(\"field line length\", axial_flux / poloidal_flux)\n",
    "    print(event.spatial_scale / 1.5e8)\n",
    "    print(\"scale in au\", np.sqrt(np.count_nonzero(map_core_mask) * (dx / 1.5e8) ** 2))\n",
    "\n",
    "    plt.imshow(map_core_mask, vmin=0, vmax=2, origin=\"lower\", extent=extent, cmap=\"Blues_r\", alpha=0.5)\n",
    "\n",
    "\n",
    "    plt.show()\n",
    "\n"
   ]
  },
  {
   "cell_type": "code",
   "execution_count": null,
   "metadata": {
    "collapsed": false,
    "ExecuteTime": {
     "start_time": "2023-09-07T01:09:46.155702Z"
    }
   },
   "outputs": [],
   "source": []
  }
 ],
 "metadata": {
  "kernelspec": {
   "display_name": "Python 3",
   "language": "python",
   "name": "python3"
  },
  "language_info": {
   "codemirror_mode": {
    "name": "ipython",
    "version": 3
   },
   "file_extension": ".py",
   "mimetype": "text/x-python",
   "name": "python",
   "nbconvert_exporter": "python",
   "pygments_lexer": "ipython3",
   "version": "3.10.6"
  },
  "vscode": {
   "interpreter": {
    "hash": "916dbcbb3f70747c44a77c7bcd40155683ae19c65e1c03b4aa3499c5328201f1"
   }
  }
 },
 "nbformat": 4,
 "nbformat_minor": 1
}
